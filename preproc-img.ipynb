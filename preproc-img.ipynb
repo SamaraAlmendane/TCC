{
 "cells": [
  {
   "cell_type": "code",
   "execution_count": 16,
   "metadata": {},
   "outputs": [
    {
     "name": "stdout",
     "output_type": "stream",
     "text": [
      "None\n"
     ]
    }
   ],
   "source": [
    "import PIL\n",
    "import numpy\n",
    "import glob, os\n",
    "from PIL import Image\n",
    "from numpy import *\n",
    "from resizeimage import resizeimage\n",
    "from keras.preprocessing.image import *\n",
    "\n",
    "BASE_MYOSOTIS = '/Users/Pandessa/Documents/MEGA/UFRRJ/TCC/Projeto/ImagensMyosotis/1.jpg'\n",
    "PASTA_BKP     = '/Users/Pandessa/Documents/MEGA/UFRRJ/TCC/Projeto/teste/'\n",
    "\n",
    "def nome(diretorio):\n",
    "    nome = diretorio.split(\"\\\\\")\n",
    "    nome = nome[1]\n",
    "    return nome\n",
    "\n",
    "def carregar_imgs(imagem):\n",
    "    if imagem is None:\n",
    "        return \"Nenhuma imagem encontrada.\"\n",
    "    else:\n",
    "        return array(imagem)\n",
    "\n",
    "def redimensionar():\n",
    "    \n",
    "    largura = 200\n",
    "    altura  = 200\n",
    "    \n",
    "    for i in glob.glob(BASE_MYOSOTIS):\n",
    "        img = Image.open(i)\n",
    "        #img = img.resize((largura, altura), PIL.Image.ANTIALIAS)\n",
    "        carregar_imgs(img)\n",
    "        #img.save(PASTA_BKP+nome(i))\n",
    "        \n",
    "print(redimensionar())\n"
   ]
  },
  {
   "cell_type": "code",
   "execution_count": null,
   "metadata": {},
   "outputs": [],
   "source": []
  }
 ],
 "metadata": {
  "kernelspec": {
   "display_name": "Python 3",
   "language": "python",
   "name": "python3"
  },
  "language_info": {
   "codemirror_mode": {
    "name": "ipython",
    "version": 3
   },
   "file_extension": ".py",
   "mimetype": "text/x-python",
   "name": "python",
   "nbconvert_exporter": "python",
   "pygments_lexer": "ipython3",
   "version": "3.7.6"
  }
 },
 "nbformat": 4,
 "nbformat_minor": 4
}
