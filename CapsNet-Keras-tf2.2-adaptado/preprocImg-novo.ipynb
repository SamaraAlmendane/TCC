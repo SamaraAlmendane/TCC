{
 "cells": [
  {
   "cell_type": "code",
   "execution_count": 15,
   "metadata": {},
   "outputs": [],
   "source": [
    "import csv\n",
    "import cv2\n",
    "import glob, os\n",
    "from faces import *\n",
    "from PIL import Image\n",
    "\n",
    "CSV_UFJF    = 'UFJF.csv'\n",
    "IMGS_UFJF   = '/Users/Pandessa/Documents/MEGA/UFRRJ/TCC/Projeto/ImagensUFJF/'\n",
    "CONJ_TREINO = '/Users/Pandessa/Documents/MEGA/UFRRJ/TCC/Projeto/CapsNet-Keras-tf2.2/CONJ_TREINO/'\n",
    "               \n",
    "def salvaImagem():\n",
    "    imagem = None\n",
    "    with open(CSV_UFJF, 'r') as rotulacao:\n",
    "        leitor = csv.DictReader(rotulacao, delimiter=',')\n",
    "        \n",
    "        for coluna in leitor:\n",
    "            caminhoFoto = IMGS_UFJF+str(coluna['id_imagem'])+\".jpg\"            \n",
    "            if os.path.exists(IMGS_UFJF):\n",
    "                if not os.path.exists(CONJ_TREINO):\n",
    "                    os.makedirs(CONJ_TREINO) #cria diretório pra salvar a imagem lá\n",
    "                    \n",
    "                salvaFotoCortada = CONJ_TREINO+str(coluna['id_imagem'])+\".jpg\"\n",
    "                imagem           = cropFaces(caminhoFoto)\n",
    "                cv2.imwrite(salvaFotoCortada, imagem)\n",
    "                \n",
    "def busca_csv(id_img, objImg):\n",
    "    \n",
    "    df_data = pd.read_csv(PATH)\n",
    "    df_data.set_index('id_imagem', inplace=True) # tornando a coluna id_imagem em indice\n",
    "        \n",
    "    try:\n",
    "        caracteristicas = df_data.loc[id_img].values\n",
    "        return caracteristicas\n",
    "    except:\n",
    "        print(\"Imagem\"+str(id_img)+\" não encontrada.\\n\")\n",
    "        \n",
    "def load_data(DIRETORIO):\n",
    "    \n",
    "    x       = [] # lista das imagens\n",
    "    y       = [] # lista de atributos das imagens (corCabelo, corOlhos...)\n",
    "    id_img  = 0\n",
    "    \n",
    "    for i in glob.glob(DIRETORIO):\n",
    "        \n",
    "        img             = Image.open(i)\n",
    "        pixels          = asarray(img).astype('float32') #transforma a imagem em um array de pixels\n",
    "        pixels          = pixels/pixels.max()\n",
    "        id_img          = int(nome(i)) # transforma id da imagem em inteiro antes de passar pra busca\n",
    "        caracteristicas = busca_csv(id_img, img)\n",
    "        x.append(pixels)\n",
    "        y.append(caracteristicas)\n",
    "        \n",
    "    return x,y\n",
    "                \n",
    "salvaImagem()"
   ]
  },
  {
   "cell_type": "code",
   "execution_count": null,
   "metadata": {},
   "outputs": [],
   "source": []
  }
 ],
 "metadata": {
  "kernelspec": {
   "display_name": "Python 3",
   "language": "python",
   "name": "python3"
  },
  "language_info": {
   "codemirror_mode": {
    "name": "ipython",
    "version": 3
   },
   "file_extension": ".py",
   "mimetype": "text/x-python",
   "name": "python",
   "nbconvert_exporter": "python",
   "pygments_lexer": "ipython3",
   "version": "3.8.3"
  }
 },
 "nbformat": 4,
 "nbformat_minor": 4
}
