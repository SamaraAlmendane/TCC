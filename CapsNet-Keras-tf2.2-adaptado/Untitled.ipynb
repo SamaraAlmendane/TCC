{
 "cells": [
  {
   "cell_type": "code",
   "execution_count": 4,
   "metadata": {},
   "outputs": [
    {
     "name": "stdout",
     "output_type": "stream",
     "text": [
      "Cheguei\n"
     ]
    },
    {
     "ename": "error",
     "evalue": "OpenCV(4.4.0) /tmp/pip-req-build-v7sdauef/opencv/modules/imgcodecs/src/loadsave.cpp:738: error: (-215:Assertion failed) !_img.empty() in function 'imwrite'\n",
     "output_type": "error",
     "traceback": [
      "\u001b[0;31m---------------------------------------------------------------------------\u001b[0m",
      "\u001b[0;31merror\u001b[0m                                     Traceback (most recent call last)",
      "\u001b[0;32m<ipython-input-4-199bae54dc5b>\u001b[0m in \u001b[0;36m<module>\u001b[0;34m\u001b[0m\n\u001b[1;32m     82\u001b[0m     \u001b[0;32mreturn\u001b[0m \u001b[0mnp\u001b[0m\u001b[0;34m.\u001b[0m\u001b[0marray\u001b[0m\u001b[0;34m(\u001b[0m\u001b[0mx\u001b[0m\u001b[0;34m)\u001b[0m\u001b[0;34m,\u001b[0m \u001b[0mnp\u001b[0m\u001b[0;34m.\u001b[0m\u001b[0marray\u001b[0m\u001b[0;34m(\u001b[0m\u001b[0my\u001b[0m\u001b[0;34m)\u001b[0m\u001b[0;34m\u001b[0m\u001b[0;34m\u001b[0m\u001b[0m\n\u001b[1;32m     83\u001b[0m \u001b[0;34m\u001b[0m\u001b[0m\n\u001b[0;32m---> 84\u001b[0;31m \u001b[0msalvaImagem\u001b[0m\u001b[0;34m(\u001b[0m\u001b[0;34m)\u001b[0m\u001b[0;34m\u001b[0m\u001b[0;34m\u001b[0m\u001b[0m\n\u001b[0m",
      "\u001b[0;32m<ipython-input-4-199bae54dc5b>\u001b[0m in \u001b[0;36msalvaImagem\u001b[0;34m()\u001b[0m\n\u001b[1;32m     46\u001b[0m                 \u001b[0msalvaFotoCortada\u001b[0m \u001b[0;34m=\u001b[0m \u001b[0mCONJ_TREINO\u001b[0m\u001b[0;34m+\u001b[0m\u001b[0mstr\u001b[0m\u001b[0;34m(\u001b[0m\u001b[0mcoluna\u001b[0m\u001b[0;34m[\u001b[0m\u001b[0;34m'id_imagem'\u001b[0m\u001b[0;34m]\u001b[0m\u001b[0;34m)\u001b[0m\u001b[0;34m+\u001b[0m\u001b[0;34m\".jpg\"\u001b[0m\u001b[0;34m\u001b[0m\u001b[0;34m\u001b[0m\u001b[0m\n\u001b[1;32m     47\u001b[0m                 \u001b[0mimagem\u001b[0m           \u001b[0;34m=\u001b[0m \u001b[0mcropFaces\u001b[0m\u001b[0;34m(\u001b[0m\u001b[0mcaminhoFoto\u001b[0m\u001b[0;34m)\u001b[0m\u001b[0;34m\u001b[0m\u001b[0;34m\u001b[0m\u001b[0m\n\u001b[0;32m---> 48\u001b[0;31m                 \u001b[0mcv2\u001b[0m\u001b[0;34m.\u001b[0m\u001b[0mimwrite\u001b[0m\u001b[0;34m(\u001b[0m\u001b[0msalvaFotoCortada\u001b[0m\u001b[0;34m,\u001b[0m \u001b[0mimagem\u001b[0m\u001b[0;34m)\u001b[0m\u001b[0;34m\u001b[0m\u001b[0;34m\u001b[0m\u001b[0m\n\u001b[0m\u001b[1;32m     49\u001b[0m \u001b[0;34m\u001b[0m\u001b[0m\n\u001b[1;32m     50\u001b[0m \u001b[0;32mdef\u001b[0m \u001b[0mbusca_csv\u001b[0m\u001b[0;34m(\u001b[0m\u001b[0mid_img\u001b[0m\u001b[0;34m)\u001b[0m\u001b[0;34m:\u001b[0m\u001b[0;34m\u001b[0m\u001b[0;34m\u001b[0m\u001b[0m\n",
      "\u001b[0;31merror\u001b[0m: OpenCV(4.4.0) /tmp/pip-req-build-v7sdauef/opencv/modules/imgcodecs/src/loadsave.cpp:738: error: (-215:Assertion failed) !_img.empty() in function 'imwrite'\n"
     ]
    }
   ],
   "source": [
    "import csv\n",
    "import cv2\n",
    "import glob, os\n",
    "from faces import *\n",
    "import numpy as np\n",
    "import pandas as pd\n",
    "from PIL import Image\n",
    "\n",
    "\n",
    "CSV_UFJF    = 'UFJF.csv'\n",
    "IMGS_UFJF   = '/home/samara/Documentos/tcc/ImagensUFJF/'\n",
    "CONJ_TREINO = '/home/samara/Documentos/tcc/CONJ_TREINO/'\n",
    "\n",
    "'''\n",
    "def nome(diretorio):\n",
    "\n",
    "    nome = diretorio.split(\"\\\\\") # pega apenas o 'id.jpg'\n",
    "    nome = nome[1]\n",
    "    nome = nome.split(\".jpg\")  # segundo split para pegar apenas o id\n",
    "    return nome[0]\n",
    "\n",
    "'''\n",
    "def nome(diretorio):\n",
    "\n",
    "    #nome = diretorio.split('imagensBD2/') # pega apenas o 'id.jpg'\n",
    "    nome = diretorio.rsplit('/', 1) # pega apenas o 'id.jpg'\n",
    "    print(nome)\n",
    "    nome = nome[1]\n",
    "    nome = nome.split(\".jpg\")  # segundo split para pegar apenas o id\n",
    "    \n",
    "    return nome[0]\n",
    "\n",
    "               \n",
    "def salvaImagem():\n",
    "    print(\"Cheguei\")\n",
    "    imagem = None\n",
    "    with open(CSV_UFJF, 'r') as rotulacao:\n",
    "        leitor = csv.DictReader(rotulacao, delimiter=',')\n",
    "        \n",
    "        for coluna in leitor:\n",
    "            caminhoFoto = IMGS_UFJF+str(coluna['id_imagem'])+\".jpg\"            \n",
    "            if os.path.exists(IMGS_UFJF):\n",
    "                if not os.path.exists(CONJ_TREINO):\n",
    "                    os.makedirs(CONJ_TREINO) #cria diretório pra salvar a imagem lá\n",
    "                    \n",
    "                salvaFotoCortada = CONJ_TREINO+str(coluna['id_imagem'])+\".jpg\"\n",
    "                imagem           = cropFaces(caminhoFoto)\n",
    "                cv2.imwrite(salvaFotoCortada, imagem)\n",
    "                \n",
    "def busca_csv(id_img):\n",
    "    \n",
    "    df_data = pd.read_csv(CSV_UFJF)\n",
    "    df_data.set_index('id_imagem', inplace=True) # tornando a coluna id_imagem em indice\n",
    "        \n",
    "    try:\n",
    "        #caracteristicas = df_data.loc[id_img].values\n",
    "        caracteristicas = df_data.loc[id_img]['cor_pele']\n",
    "        return caracteristicas\n",
    "    except:\n",
    "        print(\"Imagem\"+str(id_img)+\" não encontrada.\\n\")\n",
    "        \n",
    "def load_data(DIRETORIO):\n",
    "    \n",
    "    x       = [] # lista das imagens\n",
    "    y       = [] # lista de atributos das imagens (corCabelo, corOlhos...)\n",
    "    id_img  = 0\n",
    "    \n",
    "    for i in glob.glob(DIRETORIO):\n",
    "        \n",
    "        try:\n",
    "            img             = Image.open(i)\n",
    "            img             = img.resize((30, 30), PIL.Image.ANTIALIAS)\n",
    "            pixels          = np.asarray(img).astype('float32') #transforma a imagem em um array de pixels\n",
    "            pixels          = pixels/pixels.max()\n",
    "            id_img          = int(nome(i)) # transforma id da imagem em inteiro antes de passar pra busca\n",
    "            caracteristicas = busca_csv(id_img)\n",
    "            x.append(pixels)\n",
    "            y.append(caracteristicas)\n",
    "        except:\n",
    "            continue\n",
    "\n",
    "    return np.array(x), np.array(y)\n",
    "     \n",
    "salvaImagem()"
   ]
  },
  {
   "cell_type": "code",
   "execution_count": 3,
   "metadata": {},
   "outputs": [
    {
     "name": "stdout",
     "output_type": "stream",
     "text": [
      "Collecting package metadata (current_repodata.json): done\n",
      "Solving environment: failed with initial frozen solve. Retrying with flexible solve.\n",
      "Solving environment: failed with repodata from current_repodata.json, will retry with next repodata source.\n",
      "Collecting package metadata (repodata.json): done\n",
      "Solving environment: failed with initial frozen solve. Retrying with flexible solve.\n",
      "Solving environment: - \n",
      "Found conflicts! Looking for incompatible packages.\n",
      "This can take several minutes.  Press CTRL-C to abor\\ \n",
      "Examining conflict for urllib3 flask importlib_metadata wcwidth ipython_genutil\\ ^C\n",
      "                                                                               failed\n",
      "\n",
      "CondaError: KeyboardInterrupt\n",
      "\n",
      "\n",
      "Note: you may need to restart the kernel to use updated packages.\n"
     ]
    }
   ],
   "source": [
    "conda install -c conda-forge opencv"
   ]
  },
  {
   "cell_type": "code",
   "execution_count": null,
   "metadata": {},
   "outputs": [],
   "source": []
  }
 ],
 "metadata": {
  "kernelspec": {
   "display_name": "Python 3",
   "language": "python",
   "name": "python3"
  },
  "language_info": {
   "codemirror_mode": {
    "name": "ipython",
    "version": 3
   },
   "file_extension": ".py",
   "mimetype": "text/x-python",
   "name": "python",
   "nbconvert_exporter": "python",
   "pygments_lexer": "ipython3",
   "version": "3.7.6"
  }
 },
 "nbformat": 4,
 "nbformat_minor": 4
}
